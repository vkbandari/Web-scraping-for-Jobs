{
 "cells": [
  {
   "cell_type": "code",
   "execution_count": null,
   "metadata": {},
   "outputs": [],
   "source": []
  },
  {
   "cell_type": "code",
   "execution_count": 8,
   "metadata": {},
   "outputs": [],
   "source": [
    "from bs4 import BeautifulSoup as soup\n",
    "import requests"
   ]
  },
  {
   "cell_type": "code",
   "execution_count": 9,
   "metadata": {},
   "outputs": [],
   "source": [
    "url = \"https://www.indeed.co.in/jobs?q=&l=Hyderabad%2C+Telangana\"\n",
    "\n",
    "#getting webpage \n",
    "response = requests.get(url)\n"
   ]
  },
  {
   "cell_type": "code",
   "execution_count": 10,
   "metadata": {},
   "outputs": [],
   "source": [
    "sp = soup(response.text, 'html.parser' )\n"
   ]
  },
  {
   "cell_type": "code",
   "execution_count": null,
   "metadata": {},
   "outputs": [],
   "source": [
    "# to display what is scraped just uncomment it.\n",
    "#print(soup.prettify(sp)) "
   ]
  },
  {
   "cell_type": "code",
   "execution_count": 11,
   "metadata": {},
   "outputs": [
    {
     "name": "stdout",
     "output_type": "stream",
     "text": [
      "15\n"
     ]
    }
   ],
   "source": [
    "cont = sp.findAll(\"div\", { \"class\": \"jobsearch-SerpJobCard\"})\n",
    "print(len(cont))"
   ]
  },
  {
   "cell_type": "code",
   "execution_count": 12,
   "metadata": {},
   "outputs": [],
   "source": [
    "single_cont = cont[0]"
   ]
  },
  {
   "cell_type": "code",
   "execution_count": 13,
   "metadata": {
    "scrolled": true
   },
   "outputs": [
    {
     "name": "stdout",
     "output_type": "stream",
     "text": [
      "<div class=\"jobsearch-SerpJobCard unifiedRow row result\" data-ci=\"344510753\" data-empn=\"4127180557519341\" data-jk=\"6f4737538cc96251\" id=\"pj_6f4737538cc96251\">\n",
      "<style>\n",
      ".jobcard_logo{margin:6px 0}.jobcard_logo img{width:auto;max-width:80px;max-height:30px}\n",
      "</style>\n",
      "<div class=\"jobcard_logo\">\n",
      "<a href=\"/cmp/Whitehat-Education-Technology-Pvt.-Ltd.\" onmousedown=\"this.href = appendParamsOnce(this.href, 'tk=1e8qj05da1589000&amp;campaignid=femp&amp;from=femp');\" rel=\"noopener\" target=\"_blank\">\n",
      "<img alt=\"Whitehat Education Technology Pvt. Ltd.\" src=\"https://d2q79iu7y748jz.cloudfront.net/s/_logo/8f55c458b6dd44380ab841cc514535e0\"/>\n",
      "</a>\n",
      "</div>\n",
      "<h2 class=\"title\">\n",
      "<a class=\"jobtitle turnstileLink\" data-tn-element=\"jobTitle\" href=\"/pagead/clk?mo=r&amp;ad=-6NYlbfkN0DeaRJ22kxg2JqrXyYf-GtO-_gK1Fzeq_EbcCN_nic61AjdWuKAJ2d2sYtX5h8KtiA66iluR0zkYHFHQV3qPGDZcCE3XL5kf-EFxDRlPP-dekuyqcD88Q6Iu7MitVLoi0c5IPeX_juZEYZ2fw4oAVc4mqQJKtbWEbQh-3dglsQaj9dJ7J29TaRdrMqIFTnniLhB1a_ihbf-46409S8Jq8viiNk4b-zQnyTBbJYLF__Id1mHVizFizlzGFi98uaR82jcrbjFS_ttXzNb0ezvsY3PNcrSbWPXHjRGIZmkkS_aeuyuktL8Pj1ZcVt3kXbFatquxNaf-8YEAtOIpmso22my0mqNzbRh--Lms6BAz0-ledgSLKZhhJyKrxZ7XkZSUIWdPMzFVmpQhu41tceiT1yrNCUhoGhISNOJgbyYxbvv6R55l441rNdBpXU8oX_zYJyfEN8Qmw1wI-XUoGowlZP2G0MQ3aoDAQoej_tiWRP2rVz0EYKk1O-NroabhOEM8T4JyOI_TPYjg2qDyY64bLkZg8iqaTUPbm1NWAmZnI9xrEbXEoFFr60szp7L0HFh7WI=&amp;p=0&amp;fvj=1&amp;vjs=3\" id=\"sja0\" onclick=\"setRefineByCookie([]); sjoc('sja0', 1); convCtr('SJ'); rclk(this,jobmap[0],true,1);\" onmousedown=\"sjomd('sja0'); clk('sja0'); rclk(this,jobmap[0],1);\" rel=\"noopener nofollow\" target=\"_blank\" title=\"Online Tutor - Women Candidates Only\">\n",
      "Online Tutor - Women Candidates Only</a>\n",
      "</h2>\n",
      "<div class=\"sjcl\">\n",
      "<div>\n",
      "<span class=\"company\">\n",
      "Whitehat Education Technology Pvt. Ltd.</span>\n",
      "</div>\n",
      "<div class=\"recJobLoc\" data-rc-loc=\"Hyderabad, Telangana\" id=\"recJobLoc_6f4737538cc96251\" style=\"display: none\"></div>\n",
      "<div class=\"location accessible-contrast-color-location\">Hyderabad, Telangana</div>\n",
      "</div>\n",
      "<div class=\"salarySnippet salarySnippetDemphasizeholisticSalary\">\n",
      "<span class=\"salary no-wrap\">\n",
      "<span class=\"salaryText\">\n",
      "₹30,000 - ₹50,000 a month</span>\n",
      "</span>\n",
      "</div>\n",
      "<div class=\"summary\">\n",
      "<ul style=\"list-style-type:circle;margin-top: 0px;margin-bottom: 0px;padding-left:20px;\">\n",
      "<li style=\"margin-bottom:0px;\">WhiteHat Jr provides curriculum and digital platform and trains you free as a Certified Early Childhood Coding Expert.</li>\n",
      "<li>Salary: ₹30,000.00 to ₹50,000.00 /month.</li>\n",
      "</ul></div>\n",
      "<div class=\"jobsearch-SerpJobCard-footer\">\n",
      "<div class=\"jobsearch-SerpJobCard-footerActions\">\n",
      "<div class=\"result-link-bar-container\">\n",
      "<div class=\"result-link-bar\"><span class=\"sponsoredGray\">Hot Job</span><span class=\"result-link-bar-separator hide-sponsored-separator\">·</span><span class=\"date\">27 days ago</span><span class=\"tt_set\" id=\"tt_set_0\"><span class=\"result-link-bar-separator\">·</span><a class=\"sl resultLink save-job-link\" href=\"#\" id=\"sj_6f4737538cc96251\" onclick=\"changeJobState('6f4737538cc96251', 'save', 'linkbar', true, ''); return false;\" title=\"Save this job to my.indeed\">Save job</a></span><div class=\"edit_note_content\" id=\"editsaved2_6f4737538cc96251\" style=\"display:none;\"></div><script>if (!window['sj_result_6f4737538cc96251']) {window['sj_result_6f4737538cc96251'] = {};}window['sj_result_6f4737538cc96251']['showSource'] = false; window['sj_result_6f4737538cc96251']['source'] = \"Indeed\"; window['sj_result_6f4737538cc96251']['loggedIn'] = false; window['sj_result_6f4737538cc96251']['showMyJobsLinks'] = false;window['sj_result_6f4737538cc96251']['undoAction'] = \"unsave\";window['sj_result_6f4737538cc96251']['relativeJobAge'] = \"27 days ago\";window['sj_result_6f4737538cc96251']['jobKey'] = \"6f4737538cc96251\"; window['sj_result_6f4737538cc96251']['myIndeedAvailable'] = true; window['sj_result_6f4737538cc96251']['showMoreActionsLink'] = window['sj_result_6f4737538cc96251']['showMoreActionsLink'] || false; window['sj_result_6f4737538cc96251']['resultNumber'] = 0; window['sj_result_6f4737538cc96251']['jobStateChangedToSaved'] = false; window['sj_result_6f4737538cc96251']['searchState'] = \"l=Hyderabad%2C+Telangana\"; window['sj_result_6f4737538cc96251']['basicPermaLink'] = \"https://www.indeed.co.in\"; window['sj_result_6f4737538cc96251']['saveJobFailed'] = false; window['sj_result_6f4737538cc96251']['removeJobFailed'] = false; window['sj_result_6f4737538cc96251']['requestPending'] = false; window['sj_result_6f4737538cc96251']['notesEnabled'] = false; window['sj_result_6f4737538cc96251']['currentPage'] = \"serp\"; window['sj_result_6f4737538cc96251']['sponsored'] = true;window['sj_result_6f4737538cc96251']['showSponsor'] = true;window['sj_result_6f4737538cc96251']['reportJobButtonEnabled'] = false; window['sj_result_6f4737538cc96251']['showMyJobsHired'] = false; window['sj_result_6f4737538cc96251']['showSaveForSponsored'] = true; window['sj_result_6f4737538cc96251']['showJobAge'] = true; window['sj_result_6f4737538cc96251']['showHolisticCard'] = true; window['sj_result_6f4737538cc96251']['showDislike'] = false; window['sj_result_6f4737538cc96251']['showKebab'] = false;</script></div></div>\n",
      "</div>\n",
      "</div>\n",
      "<div class=\"tab-container\">\n",
      "<div class=\"sign-in-container result-tab\"></div>\n",
      "<div class=\"tellafriend-container result-tab email_job_content\"></div>\n",
      "</div>\n",
      "</div>\n"
     ]
    }
   ],
   "source": [
    "print(single_cont)"
   ]
  },
  {
   "cell_type": "code",
   "execution_count": 19,
   "metadata": {},
   "outputs": [
    {
     "name": "stdout",
     "output_type": "stream",
     "text": [
      "\n",
      "Online Tutor - Women Candidates Only\n"
     ]
    }
   ],
   "source": [
    "#getting single job posting work title \n",
    "print(single_cont.find('a',{'class':'jobtitle'}).string)"
   ]
  },
  {
   "cell_type": "code",
   "execution_count": 20,
   "metadata": {},
   "outputs": [
    {
     "name": "stdout",
     "output_type": "stream",
     "text": [
      "\n",
      "Whitehat Education Technology Pvt. Ltd.\n"
     ]
    }
   ],
   "source": [
    "# getting single job company name\n",
    "print(single_cont.find('span',{'class':'company'}).string)"
   ]
  },
  {
   "cell_type": "code",
   "execution_count": 21,
   "metadata": {},
   "outputs": [
    {
     "name": "stdout",
     "output_type": "stream",
     "text": [
      "\n",
      "₹30,000 - ₹50,000 a month\n"
     ]
    }
   ],
   "source": [
    "# getting single job salary\n",
    "print(single_cont.find('span',{'class':'salaryText'}).string)"
   ]
  },
  {
   "cell_type": "code",
   "execution_count": 22,
   "metadata": {},
   "outputs": [
    {
     "name": "stdout",
     "output_type": "stream",
     "text": [
      "Hyderabad, Telangana\n"
     ]
    }
   ],
   "source": [
    "# getting single job location\n",
    "print(single_cont.find('div',{'class':'location'}).string)\n"
   ]
  },
  {
   "cell_type": "code",
   "execution_count": 25,
   "metadata": {},
   "outputs": [
    {
     "name": "stdout",
     "output_type": "stream",
     "text": [
      "None\n"
     ]
    }
   ],
   "source": [
    "# getting single job working options\n",
    "print(single_cont.find('span',{'class':'remote'}))"
   ]
  },
  {
   "cell_type": "code",
   "execution_count": 26,
   "metadata": {},
   "outputs": [
    {
     "name": "stdout",
     "output_type": "stream",
     "text": [
      "WhiteHat Jr provides curriculum and digital platform and trains you free as a Certified Early Childhood Coding Expert.\n"
     ]
    }
   ],
   "source": [
    "# getting single job summary\n",
    "print(single_cont.find('div',{'class':'summary'}).li.string)"
   ]
  },
  {
   "cell_type": "code",
   "execution_count": 31,
   "metadata": {},
   "outputs": [
    {
     "name": "stdout",
     "output_type": "stream",
     "text": [
      "https://www.indeed.co.in/pagead/clk?mo=r&ad=-6NYlbfkN0DeaRJ22kxg2JqrXyYf-GtO-_gK1Fzeq_EbcCN_nic61AjdWuKAJ2d2sYtX5h8KtiA66iluR0zkYHFHQV3qPGDZcCE3XL5kf-EFxDRlPP-dekuyqcD88Q6Iu7MitVLoi0c5IPeX_juZEYZ2fw4oAVc4mqQJKtbWEbQh-3dglsQaj9dJ7J29TaRdrMqIFTnniLhB1a_ihbf-46409S8Jq8viiNk4b-zQnyTBbJYLF__Id1mHVizFizlzGFi98uaR82jcrbjFS_ttXzNb0ezvsY3PNcrSbWPXHjRGIZmkkS_aeuyuktL8Pj1ZcVt3kXbFatquxNaf-8YEAtOIpmso22my0mqNzbRh--Lms6BAz0-ledgSLKZhhJyKrxZ7XkZSUIWdPMzFVmpQhu41tceiT1yrNCUhoGhISNOJgbyYxbvv6R55l441rNdBpXU8oX_zYJyfEN8Qmw1wI-XUoGowlZP2G0MQ3aoDAQoej_tiWRP2rVz0EYKk1O-NroabhOEM8T4JyOI_TPYjg2qDyY64bLkZg8iqaTUPbm1NWAmZnI9xrEbXEoFFr60szp7L0HFh7WI=&p=0&fvj=1&vjs=3\n"
     ]
    }
   ],
   "source": [
    "#getting single job posting link\n",
    "link = 'https://www.indeed.co.in'\n",
    "link += single_cont.find('a',{'class':'jobtitle'}).get('href')\n",
    "print(link)"
   ]
  },
  {
   "cell_type": "code",
   "execution_count": 32,
   "metadata": {},
   "outputs": [],
   "source": [
    "# getting more information about job\n",
    "response_inner = requests.get(link)\n",
    "sp_inner = soup(response_inner.text, 'html.parser' )"
   ]
  },
  {
   "cell_type": "code",
   "execution_count": null,
   "metadata": {},
   "outputs": [],
   "source": []
  },
  {
   "cell_type": "code",
   "execution_count": 33,
   "metadata": {},
   "outputs": [],
   "source": [
    "#again scraping on new page of job\n",
    "inner_cont = sp_inner.find('div',{'class':'jobsearch-jobDescriptionText'})"
   ]
  },
  {
   "cell_type": "code",
   "execution_count": 34,
   "metadata": {},
   "outputs": [
    {
     "name": "stdout",
     "output_type": "stream",
     "text": [
      "<div class=\"jobsearch-jobDescriptionText\" id=\"jobDescriptionText\"><p><b>WhiteHat Jr</b> was created to solve the #1 gap in the global school system today.<br/>Today, in the computer age, less than 1% of schools teach coding in early childhood. Result, a major gap in the requirements of the new world and our children’s skills.<br/>WhiteHat Jr prepares kids 6-14 for this new world. Kids learn fundamentals of coding--logic, structure, sequence and algorithmic thinking--to generate creative outcomes eg animations and apps<br/><b>Minimal Coding Experience Required.</b></p><p><b>Job description : </b></p><ul><li>Love Working with Kids? You've found your dream job.</li><li>Earn more than Rs 30,000 per month immediately.</li><li>Teach Online: Flexible Work Hours &amp; Location.</li><li>Get Early Childhood Coding Expert Certification</li><li>You'll teach students aged 6-14 coding (logic, sequence, structure) to generate creative outcomes like websites, animations and apps.</li></ul><p><b>All classes are taught live 1:1 online. Choose your own location and timing but please be available 4-8 p.m. daily and on weekends to maximize your earnings.</b><br/><b>Responsibilities and Duties</b></p><ul><li>Minimal coding experience is required</li><li>WhiteHat Jr provides curriculum and digital platform and trains you free as a Certified Early Childhood Coding Expert</li><li>Pre-Requisites Passion for Teaching Kids aged 6-14. High Speed Internet (Min. 2 MBPS)Modern Laptop/PC with Microphone and Camera</li><li>Fluency in English is a must</li><li>Get Certification from Discovery and Google Alumni</li></ul><p><b>Required Experience, Skills and Qualifications</b><br/>College Degree in Computer, Math, Science Fields preferred. Freshers can also apply.<br/>Teacher, Work from Home, Online Tutor, Teaching, Home Tutor, coding teacher, computer teacher, home teacher, kids teacher</p><p><b>Benefits</b><br/>Degrees: B.tech, M.tech, BCA, MCA, BE, ME<br/>Coding Experience will be good to have</p><p>Job Types: Commission, Volunteer</p><p>Salary: ₹30,000.00 to ₹50,000.00 /month</p></div>\n"
     ]
    }
   ],
   "source": [
    "print(inner_cont)"
   ]
  },
  {
   "cell_type": "code",
   "execution_count": 35,
   "metadata": {},
   "outputs": [
    {
     "name": "stdout",
     "output_type": "stream",
     "text": [
      "WhiteHat Jr was created to solve the #1 gap in the global school system today.Today, in the computer age, less than 1% of schools teach coding in early childhood. Result, a major gap in the requirements of the new world and our children’s skills.WhiteHat Jr prepares kids 6-14 for this new world. Kids learn fundamentals of coding--logic, structure, sequence and algorithmic thinking--to generate creative outcomes eg animations and appsMinimal Coding Experience Required.\n"
     ]
    }
   ],
   "source": [
    "#job Summary brief\n",
    "print(inner_cont.p.text)"
   ]
  },
  {
   "cell_type": "code",
   "execution_count": 37,
   "metadata": {},
   "outputs": [
    {
     "name": "stdout",
     "output_type": "stream",
     "text": [
      "'Job description : ' \n",
      "\n",
      "\"Love Working with Kids? You've found your dream job.Earn more than Rs 30,000 per month immediately.Teach Online: Flexible Work Hours & Location.Get Early Childhood Coding Expert CertificationYou'll teach students aged 6-14 coding (logic, sequence, structure) to generate creative outcomes like websites, animations and apps.\" \n",
      "\n",
      "'All classes are taught live 1:1 online. Choose your own location and timing but please be available 4-8 p.m. daily and on weekends to maximize your earnings.Responsibilities and Duties' \n",
      "\n",
      "'Minimal coding experience is requiredWhiteHat Jr provides curriculum and digital platform and trains you free as a Certified Early Childhood Coding ExpertPre-Requisites Passion for Teaching Kids aged 6-14. High Speed Internet (Min. 2 MBPS)Modern Laptop/PC with Microphone and CameraFluency in English is a mustGet Certification from Discovery and Google Alumni' \n",
      "\n",
      "'Required Experience, Skills and QualificationsCollege Degree in Computer, Math, Science Fields preferred. Freshers can also apply.Teacher, Work from Home, Online Tutor, Teaching, Home Tutor, coding teacher, computer teacher, home teacher, kids teacher' \n",
      "\n",
      "'BenefitsDegrees: B.tech, M.tech, BCA, MCA, BE, MECoding Experience will be good to have' \n",
      "\n",
      "'Job Types: Commission, Volunteer' \n",
      "\n",
      "'Salary: ₹30,000.00 to ₹50,000.00 /month' \n",
      "\n"
     ]
    }
   ],
   "source": [
    "# getting more information about job\n",
    "for sibling in inner_cont.p.next_siblings:\n",
    "    print(repr(sibling.text),\"\\n\")"
   ]
  },
  {
   "cell_type": "code",
   "execution_count": null,
   "metadata": {},
   "outputs": [],
   "source": []
  },
  {
   "cell_type": "code",
   "execution_count": null,
   "metadata": {},
   "outputs": [],
   "source": []
  },
  {
   "cell_type": "code",
   "execution_count": null,
   "metadata": {},
   "outputs": [],
   "source": []
  },
  {
   "cell_type": "code",
   "execution_count": null,
   "metadata": {},
   "outputs": [],
   "source": []
  },
  {
   "cell_type": "code",
   "execution_count": null,
   "metadata": {},
   "outputs": [],
   "source": []
  },
  {
   "cell_type": "code",
   "execution_count": null,
   "metadata": {},
   "outputs": [],
   "source": []
  },
  {
   "cell_type": "code",
   "execution_count": null,
   "metadata": {},
   "outputs": [],
   "source": []
  },
  {
   "cell_type": "code",
   "execution_count": 41,
   "metadata": {},
   "outputs": [],
   "source": [
    "def scrap(url):\n",
    "    response = requests.get(url)\n",
    "    return(soup(response.text, 'html.parser' ))\n",
    "    "
   ]
  },
  {
   "cell_type": "code",
   "execution_count": 42,
   "metadata": {},
   "outputs": [],
   "source": [
    "import csv\n"
   ]
  },
  {
   "cell_type": "code",
   "execution_count": 74,
   "metadata": {},
   "outputs": [
    {
     "ename": "AttributeError",
     "evalue": "'NoneType' object has no attribute 'string'",
     "output_type": "error",
     "traceback": [
      "\u001b[1;31m---------------------------------------------------------------------------\u001b[0m",
      "\u001b[1;31mAttributeError\u001b[0m                            Traceback (most recent call last)",
      "\u001b[1;32m<ipython-input-74-87e2d8ed3359>\u001b[0m in \u001b[0;36m<module>\u001b[1;34m\u001b[0m\n\u001b[0;32m     34\u001b[0m \u001b[1;33m\u001b[0m\u001b[0m\n\u001b[0;32m     35\u001b[0m             \u001b[1;31m# getting single job summary\u001b[0m\u001b[1;33m\u001b[0m\u001b[1;33m\u001b[0m\u001b[1;33m\u001b[0m\u001b[0m\n\u001b[1;32m---> 36\u001b[1;33m             \u001b[0mjob_short_summary\u001b[0m \u001b[1;33m=\u001b[0m \u001b[0mcontainer\u001b[0m\u001b[1;33m[\u001b[0m\u001b[0meach_job\u001b[0m\u001b[1;33m]\u001b[0m\u001b[1;33m.\u001b[0m\u001b[0mfind\u001b[0m\u001b[1;33m(\u001b[0m\u001b[1;34m'div'\u001b[0m\u001b[1;33m,\u001b[0m\u001b[1;33m{\u001b[0m\u001b[1;34m'class'\u001b[0m\u001b[1;33m:\u001b[0m\u001b[1;34m'summary'\u001b[0m\u001b[1;33m}\u001b[0m\u001b[1;33m)\u001b[0m\u001b[1;33m.\u001b[0m\u001b[0mli\u001b[0m\u001b[1;33m.\u001b[0m\u001b[0mstring\u001b[0m\u001b[1;33m\u001b[0m\u001b[1;33m\u001b[0m\u001b[0m\n\u001b[0m\u001b[0;32m     37\u001b[0m \u001b[1;33m\u001b[0m\u001b[0m\n\u001b[0;32m     38\u001b[0m             \u001b[1;31m#to get complete info\u001b[0m\u001b[1;33m\u001b[0m\u001b[1;33m\u001b[0m\u001b[1;33m\u001b[0m\u001b[0m\n",
      "\u001b[1;31mAttributeError\u001b[0m: 'NoneType' object has no attribute 'string'"
     ]
    }
   ],
   "source": [
    "row_heading = ['Source', 'job_title', 'company_name', 'salary', 'location', 'short_summary', 'link']\n",
    "with open('indeed_jobs.csv', 'w', newline='') as file:\n",
    "    writer = csv.writer(file)\n",
    "    writer.writerow(row_heading)\n",
    "    \n",
    "    for page in range(0,2001,10):\n",
    "        base_url = \"https://www.indeed.co.in/jobs?q=&l=Telangana&radius=100&start=\"+str(page)\n",
    "        sp = scrap(base_url)\n",
    "        container = sp.findAll(\"div\", { \"class\": \"jobsearch-SerpJobCard\"})\n",
    "        #print(len(container))\n",
    "    \n",
    "        for each_job in range(len(container)):\n",
    "            source = \"indeed\"\n",
    "                        \n",
    "            #getting single job posting work title \n",
    "            job_title = container[each_job].find('a',{'class':'jobtitle'}).string\n",
    "           \n",
    "            # getting single job company name\n",
    "            comp_name = container[each_job].find('span',{'class':'company'}).string\n",
    "        \n",
    "            # getting single job salary\n",
    "            sal = container[each_job].find('span',{'class':'salaryText'})\n",
    "            if sal !=None:\n",
    "                salary = sal.string\n",
    "            else:\n",
    "                salary = None\n",
    "            \n",
    "            # getting single job location\n",
    "            job_lo = container[each_job].find('div',{'class':'location'})\n",
    "            if job_lo !=None:\n",
    "                job_loc = job_lo.string\n",
    "            else:\n",
    "                job_loc = None\n",
    "                \n",
    "            # getting single job summary\n",
    "            job_short_summary = container[each_job].find('div',{'class':'summary'}).li.string\n",
    "        \n",
    "            #to get complete info \n",
    "            #getting single job posting link\n",
    "            link = 'https://www.indeed.co.in'\n",
    "            link += container[each_job].a.get('href')\n",
    "            job_link = link\n",
    "            lis = [source, job_title, comp_name, salary, job_loc, job_short_summary, job_link]\n",
    "            #for i in lis:\n",
    "                #print(i)\n",
    "            writer.writerow(lis)\n"
   ]
  },
  {
   "cell_type": "markdown",
   "metadata": {},
   "source": [
    "### Practice Purpose try on below code cell"
   ]
  },
  {
   "cell_type": "code",
   "execution_count": null,
   "metadata": {},
   "outputs": [],
   "source": [
    "\n",
    "\n",
    "for page in range(0,51,10):\n",
    "        base_url = \"https://www.indeed.co.in/jobs?q=&l=Telangana&radius=100&start=\"+str(page)\n",
    "        sp = scrap(base_url)\n",
    "        container = sp.findAll(\"div\", { \"class\": \"jobsearch-SerpJobCard\"})\n",
    "        #print(len(container))\n",
    "    \n",
    "        for each_job in range(len(container)):\n",
    "            source = \"indeed\"\n",
    "            #getting single job posting work title \n",
    "            job_title = container[each_job].find('a',{'class':'jobtitle'}).string\n",
    "            print(job_title)\n",
    "            \"\"\"\n",
    "            # getting single job company name\n",
    "            comp_name = container[each_job].find('span',{'class':'company'}).string\n",
    "            #print(comp_name)\n",
    "            \n",
    "            # getting single job salary\n",
    "            sal = container[each_job].find('span',{'class':'salaryText'})\n",
    "            if sal !=None:\n",
    "                salary = sal.string\n",
    "            else:\n",
    "                salary = None\n",
    "            #print(salary)\n",
    "            \n",
    "            \n",
    "            # getting single job location\n",
    "            job_lo = container[each_job].find('div',{'class':'location'})\n",
    "            if job_lo !=None:\n",
    "                job_loc = job_lo.string\n",
    "            else:\n",
    "                job_loc = None\n",
    "            #print(job_loc)\n",
    "            \n",
    "            \"\"\"\n",
    "            # getting single job working options\n",
    "            #job_options = container[each_job].find('span',{'class':'remote'})\n",
    "            \n",
    "            # getting single job summary\n",
    "            job_short_summary = container[each_job].find('div',{'class':'summary'}).li.string\n",
    "            #print(job_short_summary)\n",
    "            \n",
    "            \n",
    "            #to get complete info \n",
    "            \n",
    "            #getting single job posting link\n",
    "            link = 'https://www.indeed.co.in'\n",
    "            link += container[each_job].a.get('href')\n",
    "            #inner_page scraping\n",
    "            job_link = link\n",
    "            #print(job_link)\n",
    "            \n",
    "            \n",
    "            sp1 = scrap(link)\n",
    "        \n",
    "            inner_container = sp1.find('div',{'class':'jobsearch-jobDescriptionText'})\n",
    "            print(inner_container)\n",
    "            \n",
    "            \n",
    "            '''\n",
    "            \n",
    "            #job Summary brief\n",
    "            if(inner_container != None) and (inner_container.p !=None):\n",
    "                job_long_summary = inner_container.p.text\n",
    "                print(job_long_summary)\n",
    "                \n",
    "                # getting more information about job\n",
    "                job_desc = \"\"\n",
    "                \n",
    "                for sibling in inner_container.p.next_siblings:\n",
    "                    job_desc += repr(sibling.text)+ '\\n'\n",
    "                \n",
    "            else:\n",
    "                job_long_summary = \"None\"\n",
    "                job_desc = \"None\"\n",
    "            \n",
    "            '''\n"
   ]
  },
  {
   "cell_type": "code",
   "execution_count": null,
   "metadata": {},
   "outputs": [],
   "source": []
  }
 ],
 "metadata": {
  "kernelspec": {
   "display_name": "Python 3",
   "language": "python",
   "name": "python3"
  },
  "language_info": {
   "codemirror_mode": {
    "name": "ipython",
    "version": 3
   },
   "file_extension": ".py",
   "mimetype": "text/x-python",
   "name": "python",
   "nbconvert_exporter": "python",
   "pygments_lexer": "ipython3",
   "version": "3.7.6"
  }
 },
 "nbformat": 4,
 "nbformat_minor": 4
}
