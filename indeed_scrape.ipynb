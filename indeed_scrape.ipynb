{
 "cells": [
  {
   "cell_type": "code",
   "execution_count": null,
   "metadata": {},
   "outputs": [],
   "source": []
  },
  {
   "cell_type": "code",
   "execution_count": 27,
   "metadata": {},
   "outputs": [],
   "source": [
    "from bs4 import BeautifulSoup as soup\n",
    "import requests"
   ]
  },
  {
   "cell_type": "code",
   "execution_count": 2,
   "metadata": {},
   "outputs": [],
   "source": [
    "url = \"https://www.indeed.co.in/jobs?q=&l=Hyderabad%2C+Telangana\"\n",
    "\n",
    "#getting webpage \n",
    "response = requests.get(url)\n"
   ]
  },
  {
   "cell_type": "code",
   "execution_count": 56,
   "metadata": {},
   "outputs": [],
   "source": [
    "sp = soup(response.text, 'html.parser' )\n"
   ]
  },
  {
   "cell_type": "code",
   "execution_count": null,
   "metadata": {},
   "outputs": [],
   "source": [
    "# to display what is scraped just uncomment it.\n",
    "#print(soup.prettify(sp)) "
   ]
  },
  {
   "cell_type": "code",
   "execution_count": 8,
   "metadata": {},
   "outputs": [
    {
     "name": "stdout",
     "output_type": "stream",
     "text": [
      "16\n"
     ]
    }
   ],
   "source": [
    "cont = sp.findAll(\"div\", { \"class\": \"jobsearch-SerpJobCard\"})\n",
    "print(len(cont))"
   ]
  },
  {
   "cell_type": "code",
   "execution_count": 9,
   "metadata": {},
   "outputs": [],
   "source": [
    "single_cont = cont[0]"
   ]
  },
  {
   "cell_type": "code",
   "execution_count": 12,
   "metadata": {},
   "outputs": [
    {
     "name": "stdout",
     "output_type": "stream",
     "text": [
      "<div class=\"jobsearch-SerpJobCard unifiedRow row result\" data-ci=\"322006290\" data-empn=\"7510645462564151\" data-jk=\"2da2a56b69bdc09d\" id=\"pj_2da2a56b69bdc09d\">\n",
      "<style>\n",
      ".jobcard_logo{margin:6px 0}.jobcard_logo img{width:auto;max-width:80px;max-height:30px}\n",
      "</style>\n",
      "<h2 class=\"title\">\n",
      "<a class=\"jobtitle turnstileLink\" data-tn-element=\"jobTitle\" href=\"/pagead/clk?mo=r&amp;ad=-6NYlbfkN0Cz8tCKjG0RZH_y5KilQpEt9RSwkHaFQxfNddZFL2ncGdbhoZanvnvW9c7lWEsOy4yrWaWxDpA-o0TwHk5NW1m8kNYIQN7qmZsZKH2-Mtja3MeRHRV2tntONJHhKUWPV4hhGsKIV3CWj6BAsSZLVpM68VtgdblVglLhbg1YhgvvM8dmFMhNR1wkld3e6W-FqAaioa3P9R4lnnNXrMpYEhegpesO5k2g9NbhtBT6dYFCL6q8TOQLinXGeXkiba8R_WjXdU8SuelOQwyJ0uBoBscU8uUVULlYpaaAk-9_izp7wYW7HFzOcku6_GEHWxLN80NSfR6d1nXo_M0eEJM5lteOtl6cY5FwD-VpLsbJ3rjAlNsbJXdZvyXJBSvgytb9HtA0aNExaHHX9ySEn1UCTOst8nAMU1cL1tKTH_w7wutWtg==&amp;p=0&amp;fvj=1&amp;vjs=3\" id=\"sja0\" onclick=\"setRefineByCookie([]); sjoc('sja0', 1); convCtr('SJ'); rclk(this,jobmap[0],true,1);\" onmousedown=\"sjomd('sja0'); clk('sja0'); rclk(this,jobmap[0],1);\" rel=\"noopener nofollow\" target=\"_blank\" title=\"Work from Home\">\n",
      "Work from Home</a>\n",
      "</h2>\n",
      "<div class=\"sjcl\">\n",
      "<div>\n",
      "<span class=\"company\">\n",
      "BizAcumen Research Pvt. Ltd.</span>\n",
      "</div>\n",
      "<div class=\"recJobLoc\" data-rc-loc=\"Hyderabad, Telangana\" id=\"recJobLoc_2da2a56b69bdc09d\" style=\"display: none\"></div>\n",
      "<div class=\"location accessible-contrast-color-location\">Hyderabad, Telangana</div>\n",
      "<span class=\"remote-bullet\">•</span>\n",
      "<span class=\"remote\">Remote work available</span>\n",
      "</div>\n",
      "<div class=\"salarySnippet salarySnippetDemphasizeholisticSalary\">\n",
      "<span class=\"salary no-wrap\">\n",
      "<span class=\"salaryText\">\n",
      "₹30,000 - ₹40,000 a month</span>\n",
      "</span>\n",
      "</div>\n",
      "<div class=\"summary\">\n",
      "<ul style=\"list-style-type:circle;margin-top: 0px;margin-bottom: 0px;padding-left:20px;\">\n",
      "<li>If you’re a well-read housewife, educated professional or retired workaholic with excellent written English skills, please join our world class team of talented…</li>\n",
      "</ul></div>\n",
      "<div class=\"jobsearch-SerpJobCard-footer\">\n",
      "<div class=\"jobsearch-SerpJobCard-footerActions\">\n",
      "<div class=\"result-link-bar-container\">\n",
      "<div class=\"result-link-bar\"><span class=\"sponsoredGray\">Hot Job</span><span class=\"result-link-bar-separator hide-sponsored-separator\">·</span><span class=\"date\">3 days ago</span><span class=\"tt_set\" id=\"tt_set_0\"><div class=\"job-reaction job-reaction-vertical\"><a aria-label=\"Save job\" class=\"job-reaction-open-item\" data-ol-has-click-handler=\"\" href=\"#\" onclick=\"changeJobState('2da2a56b69bdc09d', 'save', 'linkbar', true, '');return false;\"><svg fill=\"none\" focusable=\"false\" height=\"24\" width=\"24\" xmlns=\"http://www.w3.org/2000/svg\"><defs></defs><path clip-rule=\"evenodd\" d=\"M11.9719 4.92418c-1.2051-1.20229-2.8634-1.90016-4.59726-1.92345-1.43127-.02356-2.81246.52512-3.83547 1.52363-2.21746 2.21129-2.00259 5.98194.40996 8.44014l.04208.0444 7.52369 7.5089.4832.4822 8.0027-7.9806.0606-.0636c2.4017-2.4532 2.6128-6.224.4037-8.42388-2.2093-2.19999-5.9961-1.9912-8.4932.39226zm7.1038 7.08772l-.0548.0577-7.0224 7.0026-7.02786-7.0136-.03708-.0394c-1.9209-1.9574-2.08725-4.87653-.43323-6.52598.7568-.73863 1.78563-1.14733 2.85383-1.12976 1.37998.01854 2.69824.57332 3.67434 1.5463.5602.51017 1.3822.51017 1.9196.02165 1.9661-1.91827 4.8995-2.07999 6.5513-.43509 1.6507 1.64381 1.4873 4.56348-.4237 6.51558z\" fill=\"#767676\" fill-rule=\"evenodd\"></path><mask height=\"18\" id=\"a\" maskunits=\"userSpaceOnUse\" width=\"20\" x=\"2\" y=\"3\"><path clip-rule=\"evenodd\" d=\"M11.9719 4.92418c-1.2051-1.20229-2.8634-1.90016-4.59726-1.92345-1.43127-.02356-2.81246.52512-3.83547 1.52363-2.21746 2.21129-2.00259 5.98194.40996 8.44014l.04208.0444 7.52369 7.5089.4832.4822 8.0027-7.9806.0606-.0636c2.4017-2.4532 2.6128-6.224.4037-8.42388-2.2093-2.19999-5.9961-1.9912-8.4932.39226zm7.1038 7.08772l-.0548.0577-7.0224 7.0026-7.02786-7.0136-.03708-.0394c-1.9209-1.9574-2.08725-4.87653-.43323-6.52598.7568-.73863 1.78563-1.14733 2.85383-1.12976 1.37998.01854 2.69824.57332 3.67434 1.5463.5602.51017 1.3822.51017 1.9196.02165 1.9661-1.91827 4.8995-2.07999 6.5513-.43509 1.6507 1.64381 1.4873 4.56348-.4237 6.51558z\" fill=\"#fff\" fill-rule=\"evenodd\"></path></mask></svg></a><a aria-label=\"Not interested\" class=\"job-reaction-open-item\" data-ol-has-click-handler=\"\" href=\"#\" onclick=\"dislikeJob(false, false, '2da2a56b69bdc09d', 'unsave', 'linkbar', true, ''); return false;\"><span class=\"job-reaction-dislike-icon\"></span></a></div><span class=\"result-link-bar-separator\">·</span><a class=\"sl resultLink save-job-link\" href=\"#\" id=\"sj_2da2a56b69bdc09d\" onclick=\"changeJobState('2da2a56b69bdc09d', 'save', 'linkbar', true, ''); return false;\" title=\"Save this job to my.indeed\">Save job</a></span><div class=\"edit_note_content\" id=\"editsaved2_2da2a56b69bdc09d\" style=\"display:none;\"></div><script>if (!window['sj_result_2da2a56b69bdc09d']) {window['sj_result_2da2a56b69bdc09d'] = {};}window['sj_result_2da2a56b69bdc09d']['showSource'] = false; window['sj_result_2da2a56b69bdc09d']['source'] = \"Indeed\"; window['sj_result_2da2a56b69bdc09d']['loggedIn'] = false; window['sj_result_2da2a56b69bdc09d']['showMyJobsLinks'] = false;window['sj_result_2da2a56b69bdc09d']['undoAction'] = \"unsave\";window['sj_result_2da2a56b69bdc09d']['relativeJobAge'] = \"3 days ago\";window['sj_result_2da2a56b69bdc09d']['jobKey'] = \"2da2a56b69bdc09d\"; window['sj_result_2da2a56b69bdc09d']['myIndeedAvailable'] = true; window['sj_result_2da2a56b69bdc09d']['showMoreActionsLink'] = window['sj_result_2da2a56b69bdc09d']['showMoreActionsLink'] || false; window['sj_result_2da2a56b69bdc09d']['resultNumber'] = 0; window['sj_result_2da2a56b69bdc09d']['jobStateChangedToSaved'] = false; window['sj_result_2da2a56b69bdc09d']['searchState'] = \"l=Hyderabad%2C+Telangana\"; window['sj_result_2da2a56b69bdc09d']['basicPermaLink'] = \"https://www.indeed.co.in\"; window['sj_result_2da2a56b69bdc09d']['saveJobFailed'] = false; window['sj_result_2da2a56b69bdc09d']['removeJobFailed'] = false; window['sj_result_2da2a56b69bdc09d']['requestPending'] = false; window['sj_result_2da2a56b69bdc09d']['notesEnabled'] = false; window['sj_result_2da2a56b69bdc09d']['currentPage'] = \"serp\"; window['sj_result_2da2a56b69bdc09d']['sponsored'] = true;window['sj_result_2da2a56b69bdc09d']['showSponsor'] = true;window['sj_result_2da2a56b69bdc09d']['reportJobButtonEnabled'] = false; window['sj_result_2da2a56b69bdc09d']['showMyJobsHired'] = false; window['sj_result_2da2a56b69bdc09d']['showSaveForSponsored'] = true; window['sj_result_2da2a56b69bdc09d']['showJobAge'] = true; window['sj_result_2da2a56b69bdc09d']['showHolisticCard'] = true; window['sj_result_2da2a56b69bdc09d']['showDislike'] = true; window['sj_result_2da2a56b69bdc09d']['showKebab'] = false;</script></div></div>\n",
      "</div>\n",
      "</div>\n",
      "<div class=\"tab-container\">\n",
      "<div class=\"sign-in-container result-tab\"></div>\n",
      "<div class=\"tellafriend-container result-tab email_job_content\"></div>\n",
      "</div>\n",
      "</div>\n"
     ]
    }
   ],
   "source": [
    "print(single_cont)"
   ]
  },
  {
   "cell_type": "code",
   "execution_count": 16,
   "metadata": {},
   "outputs": [
    {
     "name": "stdout",
     "output_type": "stream",
     "text": [
      "\n",
      "Work from Home\n"
     ]
    }
   ],
   "source": [
    "#getting single job posting work title \n",
    "print(single_cont.a.string)"
   ]
  },
  {
   "cell_type": "code",
   "execution_count": 19,
   "metadata": {},
   "outputs": [
    {
     "name": "stdout",
     "output_type": "stream",
     "text": [
      "\n",
      "BizAcumen Research Pvt. Ltd.\n"
     ]
    }
   ],
   "source": [
    "# getting single job company name\n",
    "print(single_cont.find('span',{'class':'company'}).string)"
   ]
  },
  {
   "cell_type": "code",
   "execution_count": 25,
   "metadata": {},
   "outputs": [
    {
     "name": "stdout",
     "output_type": "stream",
     "text": [
      "\n",
      "₹30,000 - ₹40,000 a month\n"
     ]
    }
   ],
   "source": [
    "# getting single job salary\n",
    "print(single_cont.find('span',{'class':'salaryText'}).string)"
   ]
  },
  {
   "cell_type": "code",
   "execution_count": 26,
   "metadata": {},
   "outputs": [
    {
     "name": "stdout",
     "output_type": "stream",
     "text": [
      "Hyderabad, Telangana\n"
     ]
    }
   ],
   "source": [
    "# getting single job location\n",
    "print(single_cont.find('div',{'class':'location'}).string)\n"
   ]
  },
  {
   "cell_type": "code",
   "execution_count": 22,
   "metadata": {},
   "outputs": [
    {
     "name": "stdout",
     "output_type": "stream",
     "text": [
      "Remote work available\n"
     ]
    }
   ],
   "source": [
    "# getting single job working options\n",
    "print(single_cont.find('span',{'class':'remote'}).string)\n"
   ]
  },
  {
   "cell_type": "code",
   "execution_count": 24,
   "metadata": {},
   "outputs": [
    {
     "name": "stdout",
     "output_type": "stream",
     "text": [
      "If you’re a well-read housewife, educated professional or retired workaholic with excellent written English skills, please join our world class team of talented…\n"
     ]
    }
   ],
   "source": [
    "# getting single job summary\n",
    "print(single_cont.find('div',{'class':'summary'}).li.string)"
   ]
  },
  {
   "cell_type": "code",
   "execution_count": 31,
   "metadata": {},
   "outputs": [
    {
     "name": "stdout",
     "output_type": "stream",
     "text": [
      "https://www.indeed.co.in/pagead/clk?mo=r&ad=-6NYlbfkN0Cz8tCKjG0RZH_y5KilQpEt9RSwkHaFQxfNddZFL2ncGdbhoZanvnvW9c7lWEsOy4yrWaWxDpA-o0TwHk5NW1m8kNYIQN7qmZsZKH2-Mtja3MeRHRV2tntONJHhKUWPV4hhGsKIV3CWj6BAsSZLVpM68VtgdblVglLhbg1YhgvvM8dmFMhNR1wkld3e6W-FqAaioa3P9R4lnnNXrMpYEhegpesO5k2g9NbhtBT6dYFCL6q8TOQLinXGeXkiba8R_WjXdU8SuelOQwyJ0uBoBscU8uUVULlYpaaAk-9_izp7wYW7HFzOcku6_GEHWxLN80NSfR6d1nXo_M0eEJM5lteOtl6cY5FwD-VpLsbJ3rjAlNsbJXdZvyXJBSvgytb9HtA0aNExaHHX9ySEn1UCTOst8nAMU1cL1tKTH_w7wutWtg==&p=0&fvj=1&vjs=3\n"
     ]
    }
   ],
   "source": [
    "#getting single job posting link\n",
    "link = 'https://www.indeed.co.in'\n",
    "link += single_cont.a.get('href')\n",
    "print(link)"
   ]
  },
  {
   "cell_type": "code",
   "execution_count": 32,
   "metadata": {},
   "outputs": [],
   "source": [
    "# getting more information about job\n",
    "response_inner = requests.get(link)\n",
    "sp_inner = soup(response_inner.text, 'html.parser' )"
   ]
  },
  {
   "cell_type": "code",
   "execution_count": 35,
   "metadata": {},
   "outputs": [],
   "source": [
    "#again scraping on new page of job\n",
    "inner_cont = sp_inner.find('div',{'class':'jobsearch-jobDescriptionText'})"
   ]
  },
  {
   "cell_type": "code",
   "execution_count": 44,
   "metadata": {},
   "outputs": [
    {
     "name": "stdout",
     "output_type": "stream",
     "text": [
      "<div class=\"jobsearch-jobDescriptionText\" id=\"jobDescriptionText\"><p>BizAcumen Research (www.bizacumen.com) is a 15-year old reputed research services firm based in Hyderabad with clients in the United States. If you’re a well-read housewife, educated professional or retired workaholic with excellent written English skills, please join our world class team of talented Business Writers who work alongside our in-house full-time, exceptionally talented, and dedicated team to produce world-class content and have a fulfilling well-paid flexi time job.<br/>* Essential skills include the ability to comprehend and analyze large amounts of data and summarize ideas and information in easy to understand error-free English.<br/>* Benefits include access to our proprietary work from home digital platform and free online work from home training. 'Work from Home' writers are located all over India and earn from Rs.30,000 to Rs.40,000 per month.<br/>* Prior experience in work from home business writing, blog writing and article writing, and the ability to create error-free market and product related content is a huge plus.<br/><b>* If interested, please apply online at www.BizAcumen.com/external</b></p><p>Job Types: Full-time, Part-time</p><p>Salary: ₹30,000.00 to ₹40,000.00 /month</p><p>Experience:</p><ul><li>work: 1 year (Preferred)</li><li>total work: 1 year (Required)</li></ul><p>Education:</p><ul><li>Bachelor's (Required)</li></ul><p>Work Remotely:</p><ul><li>Yes</li></ul></div>\n"
     ]
    }
   ],
   "source": [
    "print(inner_cont)"
   ]
  },
  {
   "cell_type": "code",
   "execution_count": 40,
   "metadata": {},
   "outputs": [
    {
     "name": "stdout",
     "output_type": "stream",
     "text": [
      "BizAcumen Research (www.bizacumen.com) is a 15-year old reputed research services firm based in Hyderabad with clients in the United States. If you’re a well-read housewife, educated professional or retired workaholic with excellent written English skills, please join our world class team of talented Business Writers who work alongside our in-house full-time, exceptionally talented, and dedicated team to produce world-class content and have a fulfilling well-paid flexi time job.* Essential skills include the ability to comprehend and analyze large amounts of data and summarize ideas and information in easy to understand error-free English.* Benefits include access to our proprietary work from home digital platform and free online work from home training. 'Work from Home' writers are located all over India and earn from Rs.30,000 to Rs.40,000 per month.* Prior experience in work from home business writing, blog writing and article writing, and the ability to create error-free market and product related content is a huge plus.* If interested, please apply online at www.BizAcumen.com/external\n"
     ]
    }
   ],
   "source": [
    "#job Summary brief\n",
    "print(inner_cont.p.text)"
   ]
  },
  {
   "cell_type": "code",
   "execution_count": 55,
   "metadata": {},
   "outputs": [
    {
     "name": "stdout",
     "output_type": "stream",
     "text": [
      "'Job Types: Full-time, Part-time'\n",
      "'Salary: ₹30,000.00 to ₹40,000.00 /month'\n",
      "'Experience:'\n",
      "'work: 1 year (Preferred)total work: 1 year (Required)'\n",
      "'Education:'\n",
      "\"Bachelor's (Required)\"\n",
      "'Work Remotely:'\n",
      "'Yes'\n"
     ]
    }
   ],
   "source": [
    "# getting more information about job\n",
    "for sibling in inner_cont.p.next_siblings:\n",
    "    print(repr(sibling.text))"
   ]
  },
  {
   "cell_type": "code",
   "execution_count": null,
   "metadata": {},
   "outputs": [],
   "source": []
  }
 ],
 "metadata": {
  "kernelspec": {
   "display_name": "Python 3",
   "language": "python",
   "name": "python3"
  },
  "language_info": {
   "codemirror_mode": {
    "name": "ipython",
    "version": 3
   },
   "file_extension": ".py",
   "mimetype": "text/x-python",
   "name": "python",
   "nbconvert_exporter": "python",
   "pygments_lexer": "ipython3",
   "version": "3.7.6"
  }
 },
 "nbformat": 4,
 "nbformat_minor": 4
}
