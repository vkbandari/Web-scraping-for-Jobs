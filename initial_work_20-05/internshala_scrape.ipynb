{
 "cells": [
  {
   "cell_type": "markdown",
   "metadata": {},
   "source": [
    "## Internshala scrape"
   ]
  },
  {
   "cell_type": "markdown",
   "metadata": {},
   "source": [
    "## below cells for trying internshala scrape"
   ]
  },
  {
   "cell_type": "code",
   "execution_count": null,
   "metadata": {},
   "outputs": [],
   "source": [
    "from bs4 import BeautifulSoup as soup\n",
    "import requests"
   ]
  },
  {
   "cell_type": "code",
   "execution_count": null,
   "metadata": {},
   "outputs": [],
   "source": [
    "url = \"https://internshala.com/internships\"\n",
    "\n",
    "#getting webpage \n",
    "response = requests.get(url)\n"
   ]
  },
  {
   "cell_type": "code",
   "execution_count": null,
   "metadata": {},
   "outputs": [],
   "source": [
    "sp = soup(response.text, 'html.parser' )\n"
   ]
  },
  {
   "cell_type": "code",
   "execution_count": null,
   "metadata": {},
   "outputs": [],
   "source": [
    "# to display what is scraped just uncomment it.\n",
    "#print(soup.prettify(sp)) "
   ]
  },
  {
   "cell_type": "markdown",
   "metadata": {},
   "source": []
  },
  {
   "cell_type": "code",
   "execution_count": null,
   "metadata": {},
   "outputs": [],
   "source": [
    "cont = sp.findAll(\"div\", { \"class\": \"individual_internship\"})\n",
    "print(len(cont))"
   ]
  },
  {
   "cell_type": "code",
   "execution_count": null,
   "metadata": {},
   "outputs": [],
   "source": [
    "single_cont = cont[0]"
   ]
  },
  {
   "cell_type": "code",
   "execution_count": null,
   "metadata": {
    "scrolled": true
   },
   "outputs": [],
   "source": [
    "print(single_cont)"
   ]
  },
  {
   "cell_type": "code",
   "execution_count": null,
   "metadata": {},
   "outputs": [],
   "source": [
    "#getting single job posting work title \n",
    "print(single_cont.find('div',{'class':'company'}).a.string.strip())"
   ]
  },
  {
   "cell_type": "code",
   "execution_count": null,
   "metadata": {},
   "outputs": [],
   "source": [
    "# getting single job company name\n",
    "print(single_cont.find('a',{'class':'link_display_like_text'}).string.strip())"
   ]
  },
  {
   "cell_type": "code",
   "execution_count": null,
   "metadata": {},
   "outputs": [],
   "source": [
    "# getting single job location\n",
    "print(single_cont.find('a',{'class':'location_link'}).string.strip())"
   ]
  },
  {
   "cell_type": "code",
   "execution_count": null,
   "metadata": {
    "scrolled": false
   },
   "outputs": [],
   "source": [
    "main_details = single_cont.find(\"tbody\")\n",
    "print(main_details)\n"
   ]
  },
  {
   "cell_type": "code",
   "execution_count": null,
   "metadata": {},
   "outputs": [],
   "source": [
    "#getting single job posting link\n",
    "link = \"https://internshala.com\"\n",
    "link += single_cont.find('div',{'class':'company'}).a.get('href')\n",
    "print(link)"
   ]
  },
  {
   "cell_type": "code",
   "execution_count": null,
   "metadata": {},
   "outputs": [],
   "source": [
    "#getting webpage \n",
    "response1 = requests.get(link)\n",
    "spa = soup(response1.text, 'html.parser' )"
   ]
  },
  {
   "cell_type": "code",
   "execution_count": null,
   "metadata": {},
   "outputs": [],
   "source": [
    "job = spa.find('div',{'class':'internship_details'})"
   ]
  },
  {
   "cell_type": "code",
   "execution_count": null,
   "metadata": {},
   "outputs": [],
   "source": [
    "print(job)"
   ]
  },
  {
   "cell_type": "code",
   "execution_count": null,
   "metadata": {},
   "outputs": [],
   "source": [
    "print(job.div.text.strip())"
   ]
  },
  {
   "cell_type": "code",
   "execution_count": null,
   "metadata": {},
   "outputs": [],
   "source": [
    "print(job.find('span',{'class':'number_of_internships_available'}).string.strip())"
   ]
  },
  {
   "cell_type": "code",
   "execution_count": null,
   "metadata": {},
   "outputs": [],
   "source": [
    "ont = job.findAll(\"div\", { \"class\": \"freetext-container\"})"
   ]
  },
  {
   "cell_type": "code",
   "execution_count": null,
   "metadata": {},
   "outputs": [],
   "source": [
    "li = []\n",
    "for i in range(len(ont)-1):\n",
    "    if i != \"\":\n",
    "        li.append(ont[i].text.strip())\n",
    "    else:\n",
    "        break\n",
    "for i in li:\n",
    "    print(i,'\\n\\n\\n')"
   ]
  },
  {
   "cell_type": "code",
   "execution_count": null,
   "metadata": {},
   "outputs": [],
   "source": []
  },
  {
   "cell_type": "code",
   "execution_count": null,
   "metadata": {},
   "outputs": [],
   "source": []
  },
  {
   "cell_type": "code",
   "execution_count": null,
   "metadata": {},
   "outputs": [],
   "source": []
  },
  {
   "cell_type": "code",
   "execution_count": null,
   "metadata": {},
   "outputs": [],
   "source": []
  },
  {
   "cell_type": "code",
   "execution_count": null,
   "metadata": {},
   "outputs": [],
   "source": []
  },
  {
   "cell_type": "code",
   "execution_count": null,
   "metadata": {},
   "outputs": [],
   "source": []
  },
  {
   "cell_type": "code",
   "execution_count": null,
   "metadata": {},
   "outputs": [],
   "source": []
  },
  {
   "cell_type": "code",
   "execution_count": null,
   "metadata": {},
   "outputs": [],
   "source": []
  },
  {
   "cell_type": "code",
   "execution_count": null,
   "metadata": {},
   "outputs": [],
   "source": []
  },
  {
   "cell_type": "code",
   "execution_count": null,
   "metadata": {},
   "outputs": [],
   "source": []
  },
  {
   "cell_type": "markdown",
   "metadata": {},
   "source": [
    "# Main part of Internshala scrape"
   ]
  },
  {
   "cell_type": "code",
   "execution_count": null,
   "metadata": {},
   "outputs": [],
   "source": []
  },
  {
   "cell_type": "code",
   "execution_count": 2,
   "metadata": {},
   "outputs": [],
   "source": [
    "import time\n",
    "import csv\n",
    "from bs4 import BeautifulSoup as soup\n",
    "import requests"
   ]
  },
  {
   "cell_type": "code",
   "execution_count": 3,
   "metadata": {},
   "outputs": [],
   "source": [
    "def scrap(url):\n",
    "    response = requests.get(url)\n",
    "    return(soup(response.text, 'html.parser' ))"
   ]
  },
  {
   "cell_type": "code",
   "execution_count": 4,
   "metadata": {},
   "outputs": [],
   "source": [
    "def loc_url_fun():\n",
    "    loc_url_list =['https://internshala.com/internships/work-from-home-jobs', 'https://internshala.com/internships/internship-in-bangalore', 'https://internshala.com/internships/internship-in-hyderabad', 'https://internshala.com/internships/internship-in-odisha']\n",
    "    loc_url_index = ['Work from home', 'Bangalore','Hyderabad', 'Orissa']\n",
    "    print(\"Enter : \")\n",
    "    for i in range(len(loc_url_index)):\n",
    "        print(\"%d - %s\"% (i+1,loc_url_index[i]))\n",
    "    input_choice = int(input(\"your choice is: \"))\n",
    "    if(input_choice>0 and input_choice<5):\n",
    "        return(loc_url_list[input_choice-1])\n",
    "    else:\n",
    "        print(\"enter valid choice choice\")\n",
    "        return \n",
    "    \n"
   ]
  },
  {
   "cell_type": "code",
   "execution_count": 5,
   "metadata": {},
   "outputs": [
    {
     "data": {
      "text/plain": [
       "124"
      ]
     },
     "execution_count": 5,
     "metadata": {},
     "output_type": "execute_result"
    }
   ],
   "source": [
    "file_name = time.strftime(\"%d_%m_%Y_%H_%M_%S\") + \".csv\" \n",
    "row_heading = ['Source', 'job_title', 'company_name', 'location', 'short_summary', 'link', 'company_description', 'responsibilities_qulification','period','timings']\n",
    "file = open(file_name,'w')\n",
    "writer = csv.writer(file)\n",
    "writer.writerow(row_heading)\n",
    "\n",
    "#file.close()"
   ]
  },
  {
   "cell_type": "code",
   "execution_count": 6,
   "metadata": {
    "scrolled": true
   },
   "outputs": [
    {
     "name": "stdout",
     "output_type": "stream",
     "text": [
      "Enter : \n",
      "1 - Work from home\n",
      "2 - Bangalore\n",
      "3 - Hyderabad\n",
      "4 - Orissa\n",
      "your choice is: 1\n"
     ]
    }
   ],
   "source": [
    "#pages_to_scrape = int(input(\"enter number of pages to scrape : \"))\n",
    "pages_to_scrape = 2\n",
    "base_url = loc_url_fun()\n",
    "\n",
    "for page in range(pages_to_scrape):\n",
    "    \n",
    "    if(base_url == \"\"):\n",
    "        print(\"not getting url\")\n",
    "        break\n",
    "        \n",
    "    base_url += \"page-\"+str(page)\n",
    "    sp = scrap(base_url)\n",
    "    \n",
    "    container = sp.findAll(\"div\", { \"class\": \"individual_internship\"})\n",
    "    #print(len(container))\n",
    "    \n",
    "    for each_job in range(len(container)):\n",
    "        source = \"internshala\"\n",
    "                        \n",
    "        #getting single job posting work title \n",
    "        job_tit = container[each_job].find('div',{'class':'company'})\n",
    "        if(job_tit == None):\n",
    "            job_title = None\n",
    "        else:\n",
    "            job_title = job_tit.a.string.strip()\n",
    "           \n",
    "        # getting single job company name\n",
    "        comp_na = container[each_job].find('a',{'class':'link_display_like_text'})\n",
    "        if(comp_na == None):\n",
    "            comp_name = None\n",
    "        else:\n",
    "            comp_name = comp_na.string.strip()        \n",
    "        \n",
    "     \n",
    "    \n",
    "        \n",
    "        # getting single job location\n",
    "        job_lo = container[each_job].find('a',{'class':'location_link'})\n",
    "        if(job_lo == None):\n",
    "            job_loc = None\n",
    "        else:\n",
    "            job_loc = job_lo.string.strip()        \n",
    "        \n",
    "        \n",
    "                \n",
    "        # getting single job summary\n",
    "        job_short_summary = container[each_job].find(\"tbody\")\n",
    "        \n",
    "        #to get complete info \n",
    "        \n",
    "        #getting single job posting link\n",
    "        link = \"https://internshala.com\"\n",
    "        link1 = container[each_job].find('div',{'class':'company'})\n",
    "        if(link1 == None):\n",
    "            continue\n",
    "        else:\n",
    "            link += link1.a.get('href')\n",
    "        \n",
    "        job_link = link\n",
    "        \n",
    "        sp1 = scrap(link)\n",
    "        job = sp1.find('div',{'class':'internship_details'})\n",
    "        ont = job.findAll(\"div\", { \"class\": \"freetext-container\"})\n",
    "        \n",
    "        li = []\n",
    "        for i in range(len(ont)-1):\n",
    "            if i != \"\":\n",
    "                li.append(ont[i].text.strip())\n",
    "            else:\n",
    "                li.append('None')\n",
    "                \n",
    "        comp_description = li[0]\n",
    "        responsibilities_qulification = li[1]\n",
    "        period = li[2]\n",
    "        #timings = li[3]\n",
    "\n",
    "        lis = [source, job_title, comp_name, job_loc, job_short_summary, job_link, comp_description, responsibilities_qulification, period]\n",
    "        #for i in lis:\n",
    "            #print(i)\n",
    "        writer.writerow(lis)\n"
   ]
  },
  {
   "cell_type": "code",
   "execution_count": 7,
   "metadata": {},
   "outputs": [],
   "source": [
    "file.close()"
   ]
  },
  {
   "cell_type": "code",
   "execution_count": 15,
   "metadata": {},
   "outputs": [],
   "source": [
    "import pandas as pd"
   ]
  },
  {
   "cell_type": "code",
   "execution_count": 10,
   "metadata": {},
   "outputs": [],
   "source": [
    "df = pd.read_csv(file_name)"
   ]
  },
  {
   "cell_type": "code",
   "execution_count": 12,
   "metadata": {},
   "outputs": [
    {
     "data": {
      "text/html": [
       "<div>\n",
       "<style scoped>\n",
       "    .dataframe tbody tr th:only-of-type {\n",
       "        vertical-align: middle;\n",
       "    }\n",
       "\n",
       "    .dataframe tbody tr th {\n",
       "        vertical-align: top;\n",
       "    }\n",
       "\n",
       "    .dataframe thead th {\n",
       "        text-align: right;\n",
       "    }\n",
       "</style>\n",
       "<table border=\"1\" class=\"dataframe\">\n",
       "  <thead>\n",
       "    <tr style=\"text-align: right;\">\n",
       "      <th></th>\n",
       "      <th>Source</th>\n",
       "      <th>job_title</th>\n",
       "      <th>company_name</th>\n",
       "      <th>location</th>\n",
       "      <th>short_summary</th>\n",
       "      <th>link</th>\n",
       "      <th>company_description</th>\n",
       "      <th>responsibilities_qulification</th>\n",
       "      <th>period</th>\n",
       "      <th>timings</th>\n",
       "    </tr>\n",
       "  </thead>\n",
       "  <tbody>\n",
       "    <tr>\n",
       "      <th>68</th>\n",
       "      <td>internshala</td>\n",
       "      <td>Content Development (English)</td>\n",
       "      <td>Unacademy</td>\n",
       "      <td>Delhi</td>\n",
       "      <td>&lt;tbody&gt;\\r\\n&lt;tr&gt;\\r\\n&lt;td&gt;\\r\\n&lt;div id=\"start-date...</td>\n",
       "      <td>https://internshala.com/internship/detail/cont...</td>\n",
       "      <td>We are India's largest learning platform that ...</td>\n",
       "      <td>Selected intern's day-to-day responsibilities ...</td>\n",
       "      <td>Only those candidates can apply who:are availa...</td>\n",
       "      <td>NaN</td>\n",
       "    </tr>\n",
       "    <tr>\n",
       "      <th>76</th>\n",
       "      <td>internshala</td>\n",
       "      <td>Business Development (Sales)</td>\n",
       "      <td>Delhivery - NVD</td>\n",
       "      <td>Pune</td>\n",
       "      <td>&lt;tbody&gt;\\r\\n&lt;tr&gt;\\r\\n&lt;td&gt;\\r\\n&lt;div id=\"start-date...</td>\n",
       "      <td>https://internshala.com/internship/detail/busi...</td>\n",
       "      <td>We are a tech-enabled e-commerce logistics and...</td>\n",
       "      <td>Selected intern's day-to-day responsibilities ...</td>\n",
       "      <td>Only those candidates can apply who:are availa...</td>\n",
       "      <td>NaN</td>\n",
       "    </tr>\n",
       "    <tr>\n",
       "      <th>26</th>\n",
       "      <td>internshala</td>\n",
       "      <td>Software Testing/Quality Assurance</td>\n",
       "      <td>The Energy And Resources Institute</td>\n",
       "      <td>Work From Home</td>\n",
       "      <td>&lt;tbody&gt;\\r\\n&lt;tr&gt;\\r\\n&lt;td&gt;\\r\\n&lt;div id=\"start-date...</td>\n",
       "      <td>https://internshala.com/internship/details/sof...</td>\n",
       "      <td>TERI is a 30+-year-old research organization w...</td>\n",
       "      <td>Quality Assurance Intern is expected to have e...</td>\n",
       "      <td>Only those candidates can apply who:are availa...</td>\n",
       "      <td>NaN</td>\n",
       "    </tr>\n",
       "    <tr>\n",
       "      <th>31</th>\n",
       "      <td>internshala</td>\n",
       "      <td>Human Resources (HR)</td>\n",
       "      <td>HCL Technologies</td>\n",
       "      <td>Work From Home</td>\n",
       "      <td>&lt;tbody&gt;\\r\\n&lt;tr&gt;\\r\\n&lt;td&gt;\\r\\n&lt;div id=\"start-date...</td>\n",
       "      <td>https://internshala.com/internship/details/hum...</td>\n",
       "      <td>Demonstrating remarkable growth through the re...</td>\n",
       "      <td>Selected intern's day-to-day responsibilities ...</td>\n",
       "      <td>Only those candidates can apply who:are availa...</td>\n",
       "      <td>NaN</td>\n",
       "    </tr>\n",
       "    <tr>\n",
       "      <th>15</th>\n",
       "      <td>internshala</td>\n",
       "      <td>Operations</td>\n",
       "      <td>Toppr Technologies Private Limited</td>\n",
       "      <td>Mumbai</td>\n",
       "      <td>&lt;tbody&gt;\\r\\n&lt;tr&gt;\\r\\n&lt;td&gt;\\r\\n&lt;div id=\"start-date...</td>\n",
       "      <td>https://internshala.com/internship/detail/oper...</td>\n",
       "      <td>Toppr is India's leading after-school learning...</td>\n",
       "      <td>Selected intern's day-to-day responsibilities ...</td>\n",
       "      <td>Only those candidates can apply who:are availa...</td>\n",
       "      <td>NaN</td>\n",
       "    </tr>\n",
       "    <tr>\n",
       "      <th>37</th>\n",
       "      <td>internshala</td>\n",
       "      <td>Product Management</td>\n",
       "      <td>Forbes Center For Excellence</td>\n",
       "      <td>Work From Home</td>\n",
       "      <td>&lt;tbody&gt;\\r\\n&lt;tr&gt;\\r\\n&lt;td&gt;\\r\\n&lt;div id=\"start-date...</td>\n",
       "      <td>https://internshala.com/internship/details/pro...</td>\n",
       "      <td>Forbes Center For Excellence is a new initiati...</td>\n",
       "      <td>Selected intern's day-to-day responsibilities ...</td>\n",
       "      <td>Only those candidates can apply who:are availa...</td>\n",
       "      <td>NaN</td>\n",
       "    </tr>\n",
       "    <tr>\n",
       "      <th>25</th>\n",
       "      <td>internshala</td>\n",
       "      <td>Networking &amp; System Administration</td>\n",
       "      <td>The Energy And Resources Institute</td>\n",
       "      <td>Work From Home</td>\n",
       "      <td>&lt;tbody&gt;\\r\\n&lt;tr&gt;\\r\\n&lt;td&gt;\\r\\n&lt;div id=\"start-date...</td>\n",
       "      <td>https://internshala.com/internship/details/net...</td>\n",
       "      <td>TERI is a 30+-year-old research organization w...</td>\n",
       "      <td>Selected intern's day-to-day responsibilities ...</td>\n",
       "      <td>Only those candidates can apply who:are availa...</td>\n",
       "      <td>NaN</td>\n",
       "    </tr>\n",
       "    <tr>\n",
       "      <th>24</th>\n",
       "      <td>internshala</td>\n",
       "      <td>Human Resources (HR)</td>\n",
       "      <td>Dr. Reddy's Laboratories Limited</td>\n",
       "      <td>Work From Home</td>\n",
       "      <td>&lt;tbody&gt;\\r\\n&lt;tr&gt;\\r\\n&lt;td&gt;\\r\\n&lt;div id=\"start-date...</td>\n",
       "      <td>https://internshala.com/internship/details/hum...</td>\n",
       "      <td>Dr. Reddy's Laboratories is an Indian multinat...</td>\n",
       "      <td>The HR department has been central to our effo...</td>\n",
       "      <td>Only those candidates can apply who:are availa...</td>\n",
       "      <td>NaN</td>\n",
       "    </tr>\n",
       "    <tr>\n",
       "      <th>17</th>\n",
       "      <td>internshala</td>\n",
       "      <td>Business Development (Sales)</td>\n",
       "      <td>Freecharge Payments Technology Private Limited</td>\n",
       "      <td>Work From Home</td>\n",
       "      <td>&lt;tbody&gt;\\r\\n&lt;tr&gt;\\r\\n&lt;td&gt;\\r\\n&lt;div id=\"start-date...</td>\n",
       "      <td>https://internshala.com/internship/detail/busi...</td>\n",
       "      <td>Freecharge is an e-commerce/payments website h...</td>\n",
       "      <td>Selected intern's day-to-day responsibilities ...</td>\n",
       "      <td>Only those candidates can apply who:are availa...</td>\n",
       "      <td>NaN</td>\n",
       "    </tr>\n",
       "    <tr>\n",
       "      <th>46</th>\n",
       "      <td>internshala</td>\n",
       "      <td>Media &amp; Communication</td>\n",
       "      <td>Child Rights &amp; You</td>\n",
       "      <td>Work From Home</td>\n",
       "      <td>&lt;tbody&gt;\\r\\n&lt;tr&gt;\\r\\n&lt;td&gt;\\r\\n&lt;div id=\"start-date...</td>\n",
       "      <td>https://internshala.com/internship/details/med...</td>\n",
       "      <td>CRY is an Indian NGO established in 1979, with...</td>\n",
       "      <td>Selected intern's day-to-day responsibilities ...</td>\n",
       "      <td>Only those candidates can apply who:are availa...</td>\n",
       "      <td>NaN</td>\n",
       "    </tr>\n",
       "  </tbody>\n",
       "</table>\n",
       "</div>"
      ],
      "text/plain": [
       "         Source                           job_title  \\\n",
       "68  internshala       Content Development (English)   \n",
       "76  internshala        Business Development (Sales)   \n",
       "26  internshala  Software Testing/Quality Assurance   \n",
       "31  internshala                Human Resources (HR)   \n",
       "15  internshala                          Operations   \n",
       "37  internshala                  Product Management   \n",
       "25  internshala  Networking & System Administration   \n",
       "24  internshala                Human Resources (HR)   \n",
       "17  internshala        Business Development (Sales)   \n",
       "46  internshala               Media & Communication   \n",
       "\n",
       "                                      company_name        location  \\\n",
       "68                                       Unacademy           Delhi   \n",
       "76                                 Delhivery - NVD            Pune   \n",
       "26              The Energy And Resources Institute  Work From Home   \n",
       "31                                HCL Technologies  Work From Home   \n",
       "15              Toppr Technologies Private Limited          Mumbai   \n",
       "37                    Forbes Center For Excellence  Work From Home   \n",
       "25              The Energy And Resources Institute  Work From Home   \n",
       "24                Dr. Reddy's Laboratories Limited  Work From Home   \n",
       "17  Freecharge Payments Technology Private Limited  Work From Home   \n",
       "46                              Child Rights & You  Work From Home   \n",
       "\n",
       "                                        short_summary  \\\n",
       "68  <tbody>\\r\\n<tr>\\r\\n<td>\\r\\n<div id=\"start-date...   \n",
       "76  <tbody>\\r\\n<tr>\\r\\n<td>\\r\\n<div id=\"start-date...   \n",
       "26  <tbody>\\r\\n<tr>\\r\\n<td>\\r\\n<div id=\"start-date...   \n",
       "31  <tbody>\\r\\n<tr>\\r\\n<td>\\r\\n<div id=\"start-date...   \n",
       "15  <tbody>\\r\\n<tr>\\r\\n<td>\\r\\n<div id=\"start-date...   \n",
       "37  <tbody>\\r\\n<tr>\\r\\n<td>\\r\\n<div id=\"start-date...   \n",
       "25  <tbody>\\r\\n<tr>\\r\\n<td>\\r\\n<div id=\"start-date...   \n",
       "24  <tbody>\\r\\n<tr>\\r\\n<td>\\r\\n<div id=\"start-date...   \n",
       "17  <tbody>\\r\\n<tr>\\r\\n<td>\\r\\n<div id=\"start-date...   \n",
       "46  <tbody>\\r\\n<tr>\\r\\n<td>\\r\\n<div id=\"start-date...   \n",
       "\n",
       "                                                 link  \\\n",
       "68  https://internshala.com/internship/detail/cont...   \n",
       "76  https://internshala.com/internship/detail/busi...   \n",
       "26  https://internshala.com/internship/details/sof...   \n",
       "31  https://internshala.com/internship/details/hum...   \n",
       "15  https://internshala.com/internship/detail/oper...   \n",
       "37  https://internshala.com/internship/details/pro...   \n",
       "25  https://internshala.com/internship/details/net...   \n",
       "24  https://internshala.com/internship/details/hum...   \n",
       "17  https://internshala.com/internship/detail/busi...   \n",
       "46  https://internshala.com/internship/details/med...   \n",
       "\n",
       "                                  company_description  \\\n",
       "68  We are India's largest learning platform that ...   \n",
       "76  We are a tech-enabled e-commerce logistics and...   \n",
       "26  TERI is a 30+-year-old research organization w...   \n",
       "31  Demonstrating remarkable growth through the re...   \n",
       "15  Toppr is India's leading after-school learning...   \n",
       "37  Forbes Center For Excellence is a new initiati...   \n",
       "25  TERI is a 30+-year-old research organization w...   \n",
       "24  Dr. Reddy's Laboratories is an Indian multinat...   \n",
       "17  Freecharge is an e-commerce/payments website h...   \n",
       "46  CRY is an Indian NGO established in 1979, with...   \n",
       "\n",
       "                        responsibilities_qulification  \\\n",
       "68  Selected intern's day-to-day responsibilities ...   \n",
       "76  Selected intern's day-to-day responsibilities ...   \n",
       "26  Quality Assurance Intern is expected to have e...   \n",
       "31  Selected intern's day-to-day responsibilities ...   \n",
       "15  Selected intern's day-to-day responsibilities ...   \n",
       "37  Selected intern's day-to-day responsibilities ...   \n",
       "25  Selected intern's day-to-day responsibilities ...   \n",
       "24  The HR department has been central to our effo...   \n",
       "17  Selected intern's day-to-day responsibilities ...   \n",
       "46  Selected intern's day-to-day responsibilities ...   \n",
       "\n",
       "                                               period  timings  \n",
       "68  Only those candidates can apply who:are availa...      NaN  \n",
       "76  Only those candidates can apply who:are availa...      NaN  \n",
       "26  Only those candidates can apply who:are availa...      NaN  \n",
       "31  Only those candidates can apply who:are availa...      NaN  \n",
       "15  Only those candidates can apply who:are availa...      NaN  \n",
       "37  Only those candidates can apply who:are availa...      NaN  \n",
       "25  Only those candidates can apply who:are availa...      NaN  \n",
       "24  Only those candidates can apply who:are availa...      NaN  \n",
       "17  Only those candidates can apply who:are availa...      NaN  \n",
       "46  Only those candidates can apply who:are availa...      NaN  "
      ]
     },
     "execution_count": 12,
     "metadata": {},
     "output_type": "execute_result"
    }
   ],
   "source": [
    "#printing 10 records of jobs\n",
    "\n",
    "df.sample(10)"
   ]
  },
  {
   "cell_type": "code",
   "execution_count": 14,
   "metadata": {},
   "outputs": [
    {
     "data": {
      "text/plain": [
       "(80, 10)"
      ]
     },
     "execution_count": 14,
     "metadata": {},
     "output_type": "execute_result"
    }
   ],
   "source": [
    "df.shape"
   ]
  },
  {
   "cell_type": "code",
   "execution_count": null,
   "metadata": {},
   "outputs": [],
   "source": []
  },
  {
   "cell_type": "code",
   "execution_count": null,
   "metadata": {},
   "outputs": [],
   "source": []
  }
 ],
 "metadata": {
  "kernelspec": {
   "display_name": "Python 3",
   "language": "python",
   "name": "python3"
  },
  "language_info": {
   "codemirror_mode": {
    "name": "ipython",
    "version": 3
   },
   "file_extension": ".py",
   "mimetype": "text/x-python",
   "name": "python",
   "nbconvert_exporter": "python",
   "pygments_lexer": "ipython3",
   "version": "3.7.6"
  }
 },
 "nbformat": 4,
 "nbformat_minor": 4
}
